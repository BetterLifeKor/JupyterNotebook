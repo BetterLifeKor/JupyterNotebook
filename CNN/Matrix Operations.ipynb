{
 "cells": [
  {
   "cell_type": "markdown",
   "metadata": {},
   "source": [
    "## Eigen Decomposition\n",
    "#### e: eigen values, v: eigen vectors\n",
    "e, v = la.eig()"
   ]
  },
  {
   "cell_type": "code",
   "execution_count": 12,
   "metadata": {},
   "outputs": [
    {
     "name": "stdout",
     "output_type": "stream",
     "text": [
      "A: \n",
      " [[ 0.92720479  3.85306926  3.78020518]\n",
      " [ 8.4130783   8.87537086  6.83285698]\n",
      " [ 7.99326251  6.72391931  6.25468588]]\n",
      "\n",
      "v: (3, 3) \n",
      " [[-0.29912167 -0.81402244  0.10048087]\n",
      " [-0.72898324  0.29349521 -0.69915544]\n",
      " [-0.61571881  0.50122653  0.70787376]]\n",
      "\n",
      "v_t: (3, 3) \n",
      " [[-0.29912167 -0.72898324 -0.61571881]\n",
      " [-0.81402244  0.29349521  0.50122653]\n",
      " [ 0.10048087 -0.69915544  0.70787376]]\n",
      "\n",
      "e: (3, 3) \n",
      " [[ 18.09870031   0.           0.        ]\n",
      " [  0.          -2.78964176   0.        ]\n",
      " [  0.           0.           0.74820298]]\n",
      "\n",
      "v_inv: (3, 3) \n",
      " [[-0.58388046 -0.65542398 -0.5644713 ]\n",
      " [-0.99006906  0.15676944  0.29537641]\n",
      " [ 0.19317384 -0.6811015   0.71254782]]\n",
      "\n",
      "[[ -2.88657986e-15  -7.54951657e-15  -6.21724894e-15]\n",
      " [ -3.55271368e-15  -8.88178420e-15  -7.10542736e-15]\n",
      " [ -4.44089210e-15  -9.76996262e-15  -6.21724894e-15]]\n",
      "\n"
     ]
    }
   ],
   "source": [
    "import numpy as np\n",
    "from scipy import linalg as la\n",
    "\n",
    "A = np.random.rand(3, 3) * 10\n",
    "print('A: \\n', A, end='\\n\\n')\n",
    "\n",
    "# e: Eigenvaluse, v: Eigenvectors\n",
    "e, v = la.eig(A)\n",
    "e = np.diag(e)\n",
    "e = np.real(e)\n",
    "v = np.real(v)\n",
    "\n",
    "vt = v.T\n",
    "v_inv = la.inv(v)\n",
    "\n",
    "print('v:', v.shape,'\\n', v, end='\\n\\n')\n",
    "print('v_t:', vt.shape,'\\n', vt, end='\\n\\n')\n",
    "print('e:', e.shape,'\\n', e, end='\\n\\n')\n",
    "print('v_inv:', v_inv.shape,'\\n', v_inv, end='\\n\\n')\n",
    "print(A - np.matmul(np.matmul(v,e),v_inv), end='\\n\\n')"
   ]
  },
  {
   "cell_type": "markdown",
   "metadata": {},
   "source": [
    "## Logarithm Matrix\n",
    "#### Diagonal Matrix D\n",
    "log_D = matlogDig(D)\n",
    "#### General Matrix M\n",
    "log_M = matlog(M)"
   ]
  },
  {
   "cell_type": "code",
   "execution_count": 32,
   "metadata": {},
   "outputs": [
    {
     "name": "stdout",
     "output_type": "stream",
     "text": [
      "# Logarithm Calculation\n",
      "2.0\n",
      "\n",
      "# Logarithm of Diagonal Matrix\n",
      "\n",
      "Original Matrix: \n",
      "[[1 0 0]\n",
      " [0 7 0]\n",
      " [0 0 3]]\n",
      "\n",
      "Log Matrix : \n",
      "[[ 0.          0.          0.        ]\n",
      " [ 0.          0.84509804  0.        ]\n",
      " [ 0.          0.          0.47712125]]\n",
      "\n",
      "# Logarithm of General Matrix\n",
      "\n",
      "Original Matrix: \n",
      "[[1 2 3]\n",
      " [2 5 6]\n",
      " [3 6 9]]\n",
      "\n",
      "Log Matrix : \n",
      "[[-14.54476696   0.19273162   5.09522716]\n",
      " [  0.19273162   0.25908547   0.57819486]\n",
      " [  5.09522716   0.57819486  -0.95749453]]\n"
     ]
    }
   ],
   "source": [
    "import numpy as np\n",
    "import numpy.matlib as npm\n",
    "from scipy import linalg as la\n",
    "\n",
    "from math import log10\n",
    "\n",
    "# example 1\n",
    "print(\"# Logarithm Calculation\")\n",
    "print(log10(100))\n",
    "\n",
    "# example 2\n",
    "print(\"\\n# Logarithm of Diagonal Matrix\\n\")\n",
    "D = np.diag((1, 7, 3))\n",
    "def matlogDig(k):    \n",
    "    n = k.shape[0]\n",
    "    if n!=k.shape[1]:\n",
    "        print(\"Only Square Matrix!\")\n",
    "    ret_k = npm.zeros((n,n))    \n",
    "    for i in range(n):\n",
    "        ret_k[i,i] = log10(k[i,i])\n",
    "    return ret_k\n",
    "log_D = matlogDig(D)\n",
    "print(\"Original Matrix: \")\n",
    "print(D)\n",
    "print(\"\\nLog Matrix : \")\n",
    "print(log_D)\n",
    "\n",
    "# example 3\n",
    "print(\"\\n# Logarithm of General Matrix\\n\")\n",
    "M = np.array([[1, 2, 3],[2, 5, 6], [3, 6, 9]])\n",
    "# M = np.random.rand(3, 3)\n",
    "def matlog(m):    \n",
    "    n = m.shape[0]\n",
    "    if n!=m.shape[1]:\n",
    "        print(\"Only Square Matrix!\")\n",
    "        return np.zeros((m.shape[0],m.shape[1]))\n",
    "    ret_m = npm.zeros((n,n))\n",
    "    e, v = la.eig(m)\n",
    "    e = np.real(e)\n",
    "    e = np.diag(e)\n",
    "    log_e = matlogDig(e)\n",
    "    ret_m =  np.matmul(np.matmul(v,log_e),la.inv(v))\n",
    "    return ret_m\n",
    "log_M = matlog(M)\n",
    "print(\"Original Matrix: \")\n",
    "print(M)\n",
    "print(\"\\nLog Matrix : \")\n",
    "print(log_M)\n"
   ]
  },
  {
   "cell_type": "markdown",
   "metadata": {},
   "source": [
    "## Get JN (Constant Matrix)\n",
    "#### JN(n)"
   ]
  },
  {
   "cell_type": "code",
   "execution_count": 38,
   "metadata": {},
   "outputs": [
    {
     "name": "stdout",
     "output_type": "stream",
     "text": [
      "[[ 0.1875 -0.0625 -0.0625 -0.0625 -0.0625]\n",
      " [-0.0625  0.1875 -0.0625 -0.0625 -0.0625]\n",
      " [-0.0625 -0.0625  0.1875 -0.0625 -0.0625]\n",
      " [-0.0625 -0.0625 -0.0625  0.1875 -0.0625]\n",
      " [-0.0625 -0.0625 -0.0625 -0.0625  0.1875]]\n"
     ]
    }
   ],
   "source": [
    "import numpy as np\n",
    "\n",
    "n = 5\n",
    "def JN(n):\n",
    "    return (1/(n-1))*(np.eye(n) -  (1/(n-1))*np.ones((n,n)))\n",
    "print(JN(n))"
   ]
  },
  {
   "cell_type": "markdown",
   "metadata": {},
   "source": [
    "## Covariance Matrix"
   ]
  },
  {
   "cell_type": "code",
   "execution_count": 39,
   "metadata": {},
   "outputs": [
    {
     "name": "stdout",
     "output_type": "stream",
     "text": [
      "(1, 10)\n",
      "[[  0.       0.       0.       0.       0.       0.       0.       0.       0.\n",
      "    0.    ]\n",
      " [  0.      -0.3125  -0.625   -0.9375  -1.25    -1.5625  -1.875   -2.1875\n",
      "   -2.5     -2.8125]\n",
      " [  0.      -0.625   -1.25    -1.875   -2.5     -3.125   -3.75    -4.375\n",
      "   -5.      -5.625 ]\n",
      " [  0.      -0.9375  -1.875   -2.8125  -3.75    -4.6875  -5.625   -6.5625\n",
      "   -7.5     -8.4375]\n",
      " [  0.      -1.25    -2.5     -3.75    -5.      -6.25    -7.5     -8.75\n",
      "  -10.     -11.25  ]\n",
      " [  0.      -1.5625  -3.125   -4.6875  -6.25    -7.8125  -9.375  -10.9375\n",
      "  -12.5    -14.0625]\n",
      " [  0.      -1.875   -3.75    -5.625   -7.5     -9.375  -11.25   -13.125\n",
      "  -15.     -16.875 ]\n",
      " [  0.      -2.1875  -4.375   -6.5625  -8.75   -10.9375 -13.125  -15.3125\n",
      "  -17.5    -19.6875]\n",
      " [  0.      -2.5     -5.      -7.5    -10.     -12.5    -15.     -17.5    -20.\n",
      "  -22.5   ]\n",
      " [  0.      -2.8125  -5.625   -8.4375 -11.25   -14.0625 -16.875  -19.6875\n",
      "  -22.5    -25.3125]]\n"
     ]
    }
   ],
   "source": [
    "n = 5\n",
    "h1 = np.matrix([i for i in range(10) ])\n",
    "h = np.matrix([[i for i in range(10)] for j in range(n)])\n",
    "\n",
    "h1 = h1.reshape((1,-1))\n",
    "print(h1.shape)\n",
    "def cov(H):\n",
    "    return np.transpose(H)*JN(H.shape[0])*H\n",
    "print(cov(h))\n"
   ]
  },
  {
   "cell_type": "markdown",
   "metadata": {},
   "source": [
    "## Pseudo Inverse\n",
    "#### Right Pseudo Inverse (r<c)\n",
    "rps()\n",
    "#### Left Pseudo Inverse (r>c)\n",
    "lps()"
   ]
  },
  {
   "cell_type": "code",
   "execution_count": 40,
   "metadata": {},
   "outputs": [
    {
     "name": "stdout",
     "output_type": "stream",
     "text": [
      "[[  1.00000000e+00   1.11022302e-16]\n",
      " [ -1.66533454e-16   1.00000000e+00]]\n",
      "[[  1.00000000e+00  -1.11022302e-16]\n",
      " [  0.00000000e+00   1.00000000e+00]]\n"
     ]
    }
   ],
   "source": [
    "from scipy import linalg as la\n",
    "import numpy as np\n",
    "rrccc = np.matrix([[1, 2, 3], [3, 2, 1]])\n",
    "rrrcc = np.transpose(rrccc)\n",
    "def rps(A):\n",
    "    A_tr = np.transpose(A)\n",
    "    return np.matmul(A_tr,la.inv(np.matmul(A,A_tr)))\n",
    "def lps(A):\n",
    "    A_tr = np.transpose(A)\n",
    "    return np.matmul(la.inv(np.matmul(A_tr,A)),A_tr)\n",
    "\n",
    "print(np.matmul(rrccc,rps(rrccc)))\n",
    "print(np.matmul(lps(rrrcc),rrrcc))\n"
   ]
  },
  {
   "cell_type": "markdown",
   "metadata": {},
   "source": [
    "## Get Affinity\n",
    "LEM(C1, C2)"
   ]
  },
  {
   "cell_type": "code",
   "execution_count": 44,
   "metadata": {},
   "outputs": [
    {
     "name": "stdout",
     "output_type": "stream",
     "text": [
      "[[-31.25   -28.125  -25.     -21.875  -18.75   -15.625  -12.5     -9.375\n",
      "   -6.25    -3.125 ]\n",
      " [-28.125  -25.3125 -22.5    -19.6875 -16.875  -14.0625 -11.25    -8.4375\n",
      "   -5.625   -2.8125]\n",
      " [-25.     -22.5    -20.     -17.5    -15.     -12.5    -10.      -7.5     -5.\n",
      "   -2.5   ]\n",
      " [-21.875  -19.6875 -17.5    -15.3125 -13.125  -10.9375  -8.75    -6.5625\n",
      "   -4.375   -2.1875]\n",
      " [-18.75   -16.875  -15.     -13.125  -11.25    -9.375   -7.5     -5.625\n",
      "   -3.75    -1.875 ]\n",
      " [-15.625  -14.0625 -12.5    -10.9375  -9.375   -7.8125  -6.25    -4.6875\n",
      "   -3.125   -1.5625]\n",
      " [-12.5    -11.25   -10.      -8.75    -7.5     -6.25    -5.      -3.75\n",
      "   -2.5     -1.25  ]\n",
      " [ -9.375   -8.4375  -7.5     -6.5625  -5.625   -4.6875  -3.75    -2.8125\n",
      "   -1.875   -0.9375]\n",
      " [ -6.25    -5.625   -5.      -4.375   -3.75    -3.125   -2.5     -1.875\n",
      "   -1.25    -0.625 ]\n",
      " [ -3.125   -2.8125  -2.5     -2.1875  -1.875   -1.5625  -1.25    -0.9375\n",
      "   -0.625   -0.3125]]\n"
     ]
    },
    {
     "ename": "ValueError",
     "evalue": "math domain error",
     "output_type": "error",
     "traceback": [
      "\u001b[1;31m---------------------------------------------------------------------------\u001b[0m",
      "\u001b[1;31mValueError\u001b[0m                                Traceback (most recent call last)",
      "\u001b[1;32m<ipython-input-44-5834894e8e45>\u001b[0m in \u001b[0;36m<module>\u001b[1;34m()\u001b[0m\n\u001b[0;32m      8\u001b[0m \u001b[1;33m\u001b[0m\u001b[0m\n\u001b[0;32m      9\u001b[0m \u001b[0mprint\u001b[0m\u001b[1;33m(\u001b[0m\u001b[0mcov\u001b[0m\u001b[1;33m(\u001b[0m\u001b[0mh1\u001b[0m\u001b[1;33m)\u001b[0m\u001b[1;33m)\u001b[0m\u001b[1;33m\u001b[0m\u001b[0m\n\u001b[1;32m---> 10\u001b[1;33m \u001b[0mh1_mat\u001b[0m \u001b[1;33m=\u001b[0m \u001b[0mmatlog\u001b[0m\u001b[1;33m(\u001b[0m\u001b[0mcov\u001b[0m\u001b[1;33m(\u001b[0m\u001b[0mh1\u001b[0m\u001b[1;33m)\u001b[0m\u001b[1;33m)\u001b[0m\u001b[1;33m\u001b[0m\u001b[0m\n\u001b[0m\u001b[0;32m     11\u001b[0m \u001b[0mh2_mat\u001b[0m \u001b[1;33m=\u001b[0m \u001b[0mmatlog\u001b[0m\u001b[1;33m(\u001b[0m\u001b[0mcov\u001b[0m\u001b[1;33m(\u001b[0m\u001b[0mh2\u001b[0m\u001b[1;33m)\u001b[0m\u001b[1;33m)\u001b[0m\u001b[1;33m\u001b[0m\u001b[0m\n\u001b[0;32m     12\u001b[0m \u001b[1;33m\u001b[0m\u001b[0m\n",
      "\u001b[1;32m<ipython-input-32-2d1718829189>\u001b[0m in \u001b[0;36mmatlog\u001b[1;34m(m)\u001b[0m\n\u001b[0;32m     39\u001b[0m     \u001b[0me\u001b[0m \u001b[1;33m=\u001b[0m \u001b[0mnp\u001b[0m\u001b[1;33m.\u001b[0m\u001b[0mreal\u001b[0m\u001b[1;33m(\u001b[0m\u001b[0me\u001b[0m\u001b[1;33m)\u001b[0m\u001b[1;33m\u001b[0m\u001b[0m\n\u001b[0;32m     40\u001b[0m     \u001b[0me\u001b[0m \u001b[1;33m=\u001b[0m \u001b[0mnp\u001b[0m\u001b[1;33m.\u001b[0m\u001b[0mdiag\u001b[0m\u001b[1;33m(\u001b[0m\u001b[0me\u001b[0m\u001b[1;33m)\u001b[0m\u001b[1;33m\u001b[0m\u001b[0m\n\u001b[1;32m---> 41\u001b[1;33m     \u001b[0mlog_e\u001b[0m \u001b[1;33m=\u001b[0m \u001b[0mmatlogDig\u001b[0m\u001b[1;33m(\u001b[0m\u001b[0me\u001b[0m\u001b[1;33m)\u001b[0m\u001b[1;33m\u001b[0m\u001b[0m\n\u001b[0m\u001b[0;32m     42\u001b[0m     \u001b[0mret_m\u001b[0m \u001b[1;33m=\u001b[0m  \u001b[0mnp\u001b[0m\u001b[1;33m.\u001b[0m\u001b[0mmatmul\u001b[0m\u001b[1;33m(\u001b[0m\u001b[0mnp\u001b[0m\u001b[1;33m.\u001b[0m\u001b[0mmatmul\u001b[0m\u001b[1;33m(\u001b[0m\u001b[0mv\u001b[0m\u001b[1;33m,\u001b[0m\u001b[0mlog_e\u001b[0m\u001b[1;33m)\u001b[0m\u001b[1;33m,\u001b[0m\u001b[0mla\u001b[0m\u001b[1;33m.\u001b[0m\u001b[0minv\u001b[0m\u001b[1;33m(\u001b[0m\u001b[0mv\u001b[0m\u001b[1;33m)\u001b[0m\u001b[1;33m)\u001b[0m\u001b[1;33m\u001b[0m\u001b[0m\n\u001b[0;32m     43\u001b[0m     \u001b[1;32mreturn\u001b[0m \u001b[0mret_m\u001b[0m\u001b[1;33m\u001b[0m\u001b[0m\n",
      "\u001b[1;32m<ipython-input-32-2d1718829189>\u001b[0m in \u001b[0;36mmatlogDig\u001b[1;34m(k)\u001b[0m\n\u001b[0;32m     18\u001b[0m     \u001b[0mret_k\u001b[0m \u001b[1;33m=\u001b[0m \u001b[0mnpm\u001b[0m\u001b[1;33m.\u001b[0m\u001b[0mzeros\u001b[0m\u001b[1;33m(\u001b[0m\u001b[1;33m(\u001b[0m\u001b[0mn\u001b[0m\u001b[1;33m,\u001b[0m\u001b[0mn\u001b[0m\u001b[1;33m)\u001b[0m\u001b[1;33m)\u001b[0m\u001b[1;33m\u001b[0m\u001b[0m\n\u001b[0;32m     19\u001b[0m     \u001b[1;32mfor\u001b[0m \u001b[0mi\u001b[0m \u001b[1;32min\u001b[0m \u001b[0mrange\u001b[0m\u001b[1;33m(\u001b[0m\u001b[0mn\u001b[0m\u001b[1;33m)\u001b[0m\u001b[1;33m:\u001b[0m\u001b[1;33m\u001b[0m\u001b[0m\n\u001b[1;32m---> 20\u001b[1;33m         \u001b[0mret_k\u001b[0m\u001b[1;33m[\u001b[0m\u001b[0mi\u001b[0m\u001b[1;33m,\u001b[0m\u001b[0mi\u001b[0m\u001b[1;33m]\u001b[0m \u001b[1;33m=\u001b[0m \u001b[0mlog10\u001b[0m\u001b[1;33m(\u001b[0m\u001b[0mk\u001b[0m\u001b[1;33m[\u001b[0m\u001b[0mi\u001b[0m\u001b[1;33m,\u001b[0m\u001b[0mi\u001b[0m\u001b[1;33m]\u001b[0m\u001b[1;33m)\u001b[0m\u001b[1;33m\u001b[0m\u001b[0m\n\u001b[0m\u001b[0;32m     21\u001b[0m     \u001b[1;32mreturn\u001b[0m \u001b[0mret_k\u001b[0m\u001b[1;33m\u001b[0m\u001b[0m\n\u001b[0;32m     22\u001b[0m \u001b[0mlog_D\u001b[0m \u001b[1;33m=\u001b[0m \u001b[0mmatlogDig\u001b[0m\u001b[1;33m(\u001b[0m\u001b[0mD\u001b[0m\u001b[1;33m)\u001b[0m\u001b[1;33m\u001b[0m\u001b[0m\n",
      "\u001b[1;31mValueError\u001b[0m: math domain error"
     ]
    }
   ],
   "source": [
    "import numpy as np\n",
    "from scipy import linalg as la\n",
    "n = 5\n",
    "def normF(m):\n",
    "    return np.matmul(np.transpose(m),m)\n",
    "h1 = np.matrix([[10-i for i in range(10)] for j in range(n)])\n",
    "h2 = np.matrix([[i for i in range(10)] for j in range(n)])\n",
    "\n",
    "print(cov(h1))\n",
    "h1_mat = matlog(cov(h1))\n",
    "h2_mat = matlog(cov(h2))\n",
    "\n",
    "def LEM(c1, c2):\n",
    "    return normF(c1-c2)\n",
    "\n",
    "print( LEM(h1_mat, h2_mat) )"
   ]
  },
  {
   "cell_type": "code",
   "execution_count": null,
   "metadata": {
    "collapsed": true
   },
   "outputs": [],
   "source": []
  }
 ],
 "metadata": {
  "kernelspec": {
   "display_name": "Python 3",
   "language": "python",
   "name": "python3"
  },
  "language_info": {
   "codemirror_mode": {
    "name": "ipython",
    "version": 3
   },
   "file_extension": ".py",
   "mimetype": "text/x-python",
   "name": "python",
   "nbconvert_exporter": "python",
   "pygments_lexer": "ipython3",
   "version": "3.6.1"
  }
 },
 "nbformat": 4,
 "nbformat_minor": 2
}
