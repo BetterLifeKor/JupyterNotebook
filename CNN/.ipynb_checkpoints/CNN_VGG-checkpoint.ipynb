{
 "cells": [
  {
   "cell_type": "markdown",
   "metadata": {},
   "source": [
    "### CONVOLUTIONAL NEURAL NETWORK WITH CUSTOM DATA"
   ]
  },
  {
   "cell_type": "code",
   "execution_count": 23,
   "metadata": {},
   "outputs": [
    {
     "name": "stdout",
     "output_type": "stream",
     "text": [
      "Packages loaded\n"
     ]
    }
   ],
   "source": [
    "import os\n",
    "import numpy as np\n",
    "import tensorflow as tf\n",
    "import matplotlib.pyplot as plt\n",
    "%matplotlib inline  \n",
    "print (\"Packages loaded\")"
   ]
  },
  {
   "cell_type": "markdown",
   "metadata": {},
   "source": [
    "### LOAD DATA"
   ]
  },
  {
   "cell_type": "code",
   "execution_count": 24,
   "metadata": {},
   "outputs": [
    {
     "name": "stdout",
     "output_type": "stream",
     "text": [
      "['trainimg', 'trainlabel', 'testimg', 'testlabel', 'imgsize', 'use_gray', 'categories']\n",
      "trainimg \t:  (2936, 65536)\n",
      "trainlabel \t:  (2936, 5)\n",
      "testimg \t:  (734, 65536)\n",
      "testlabel \t:  (734, 5)\n",
      "imgsize \t:  (2,)\n",
      "use_gray \t:  ()\n",
      "categories \t:  (5,)\n",
      "TRAIN IMAGES : 2936\n",
      "TEST IMAGES  : 734\n",
      "IMAGE Channel: 1\n",
      "INPUT Dim.   : 65536\n",
      "Image Size   : [256 256]\n",
      "CLASSES      : 5\n",
      "Categories   : ['daisy' 'dandelion' 'roses' 'sunflowers' 'tulips']\n"
     ]
    }
   ],
   "source": [
    "# Load them!\n",
    "# cwd = os.getcwd()\n",
    "datapath = \"../../DB/data/\"\n",
    "# loadpath = \"../data/custom_data_flowers_64_64_rgb.npz\"\n",
    "# loadpath = \"../data/data4vgg.npz\"\n",
    "# loadpath = \"../data/custom_data_flowers_224_224_gray.npz\"\n",
    "loadpath = datapath + \"custom_data_flowers_256_256_gray.npz\"\n",
    "\n",
    "l = np.load(loadpath)\n",
    "\n",
    "# cnn_switch = 'basic'\n",
    "# cnn_switch = 'vgg16'\n",
    "cnn_switch = 'cnn4'\n",
    "\n",
    "\n",
    "# See what's in here\n",
    "print (l.files)\n",
    "for i in l.files:\n",
    "    print(i + \" \\t: \", l[i].shape)\n",
    "\n",
    "\n",
    "# Parse data\n",
    "trainimg = l['trainimg']\n",
    "trainlabel = l['trainlabel']\n",
    "testimg = l['testimg']\n",
    "testlabel = l['testlabel']\n",
    "imgsize = l['imgsize']\n",
    "use_gray = l['use_gray']\n",
    "categories = l['categories']\n",
    "ntrain = trainimg.shape[0]\n",
    "nclass = trainlabel.shape[1]\n",
    "dim    = trainimg.shape[1]\n",
    "ntest  = testimg.shape[0]\n",
    "\n",
    "\n",
    "if use_gray: \n",
    "    nimgch = 1\n",
    "else:\n",
    "    nimgch = 3\n",
    "\n",
    "print (\"TRAIN IMAGES : %d\" % (ntrain))\n",
    "print (\"TEST IMAGES  : %d\" % (ntest))\n",
    "print (\"IMAGE Channel: %d\" % (nimgch))\n",
    "print (\"INPUT Dim.   : %d\" % (dim))\n",
    "print (\"Image Size   :\", imgsize)\n",
    "print (\"CLASSES      : %d\" % (nclass))\n",
    "print (\"Categories   :\", categories)"
   ]
  },
  {
   "cell_type": "markdown",
   "metadata": {},
   "source": [
    "### DEFINE NETWORK (CNN Basic)"
   ]
  },
  {
   "cell_type": "code",
   "execution_count": 25,
   "metadata": {
    "collapsed": true
   },
   "outputs": [],
   "source": [
    "if cnn_switch == 'basic':\n",
    "    tf.set_random_seed(0)\n",
    "    n_input  = dim\n",
    "    n_output = nclass\n",
    "    if use_gray:\n",
    "        weights  = {\n",
    "            'wc1': tf.Variable(tf.random_normal([5, 5, 1, 128], stddev=0.1)),\n",
    "            'wc2': tf.Variable(tf.random_normal([5, 5, 128, 128], stddev=0.1)),\n",
    "            'wd1': tf.Variable(tf.random_normal(\n",
    "                    [(int)(imgsize[0]/4*imgsize[1]/4)*128, 128], stddev=0.1)),\n",
    "            'wd2': tf.Variable(tf.random_normal([128, n_output], stddev=0.1))\n",
    "        }\n",
    "    else:\n",
    "        weights  = {\n",
    "            'wc1': tf.Variable(tf.random_normal([5, 5, 3, 128], stddev=0.1)),\n",
    "            'wc2': tf.Variable(tf.random_normal([5, 5, 128, 128], stddev=0.1)),\n",
    "            'wd1': tf.Variable(tf.random_normal(\n",
    "                    [(int)(imgsize[0]/4*imgsize[1]/4)*128, 128], stddev=0.1)),\n",
    "            'wd2': tf.Variable(tf.random_normal([128, n_output], stddev=0.1))\n",
    "        }\n",
    "    biases   = {\n",
    "        'bc1': tf.Variable(tf.random_normal([128], stddev=0.1)),\n",
    "        'bc2': tf.Variable(tf.random_normal([128], stddev=0.1)),\n",
    "        'bd1': tf.Variable(tf.random_normal([128], stddev=0.1)),\n",
    "        'bd2': tf.Variable(tf.random_normal([n_output], stddev=0.1))\n",
    "    }"
   ]
  },
  {
   "cell_type": "code",
   "execution_count": 26,
   "metadata": {
    "collapsed": true
   },
   "outputs": [],
   "source": [
    "def conv_basic(_input, _w, _b, _keepratio, _use_gray):\n",
    "    # INPUT\n",
    "    if _use_gray:\n",
    "        _input_r = tf.reshape(_input, shape=[-1, imgsize[0], imgsize[1], 1])\n",
    "    else:\n",
    "        _input_r = tf.reshape(_input, shape=[-1, imgsize[0], imgsize[1], 3])\n",
    "    # CONVOLUTION LAYER 1\n",
    "    _conv1 = tf.nn.relu(tf.nn.bias_add(tf.nn.conv2d(_input_r\n",
    "        , _w['wc1'], strides=[1, 1, 1, 1], padding='SAME'), _b['bc1']))\n",
    "    _pool1 = tf.nn.max_pool(_conv1, ksize=[1, 2, 2, 1]\n",
    "        , strides=[1, 2, 2, 1], padding='SAME')\n",
    "    _pool_dr1 = tf.nn.dropout(_pool1, _keepratio)\n",
    "    # CONVOLUTION LAYER 2\n",
    "    _conv2 = tf.nn.relu(tf.nn.bias_add(tf.nn.conv2d(_pool_dr1\n",
    "        , _w['wc2'], strides=[1, 1, 1, 1], padding='SAME'), _b['bc2']))\n",
    "    _pool2 = tf.nn.max_pool(_conv2, ksize=[1, 2, 2, 1]\n",
    "        , strides=[1, 2, 2, 1], padding='SAME')\n",
    "    _pool_dr2 = tf.nn.dropout(_pool2, _keepratio)\n",
    "    # VECTORIZE\n",
    "    _dense1 = tf.reshape(_pool_dr2\n",
    "                         , [-1, _w['wd1'].get_shape().as_list()[0]])\n",
    "    # FULLY CONNECTED LAYER 1\n",
    "    _fc1 = tf.nn.relu(tf.add(tf.matmul(_dense1, _w['wd1']), _b['bd1']))\n",
    "    _fc_dr1 = tf.nn.dropout(_fc1, _keepratio)\n",
    "    # FULLY CONNECTED LAYER 2\n",
    "    _out = tf.add(tf.matmul(_fc_dr1, _w['wd2']), _b['bd2'])\n",
    "    # RETURN\n",
    "    out = {\n",
    "        'input_r': _input_r, 'conv1': _conv1, 'pool1': _pool1\n",
    "        , 'pool1_dr1': _pool_dr1, 'conv2': _conv2, 'pool2': _pool2\n",
    "        , 'pool_dr2': _pool_dr2, 'dense1': _dense1, 'fc1': _fc1\n",
    "        , 'fc_dr1': _fc_dr1, 'out': _out\n",
    "    }\n",
    "    return out"
   ]
  },
  {
   "cell_type": "markdown",
   "metadata": {},
   "source": [
    "### DEFINE NETWORK (CNN 4)"
   ]
  },
  {
   "cell_type": "code",
   "execution_count": 38,
   "metadata": {
    "collapsed": true
   },
   "outputs": [],
   "source": [
    "if cnn_switch == 'cnn4':\n",
    "    tf.set_random_seed(0)\n",
    "    n_input  = dim\n",
    "    n_output = nclass\n",
    "    if use_gray:\n",
    "        weights  = {\n",
    "            'wc1': tf.Variable(tf.random_normal([3, 3, 1, 64], stddev=0.1))\n",
    "        }\n",
    "    else :\n",
    "        weights  = {\n",
    "            'wc1': tf.Variable(tf.random_normal([3, 3, 3, 64], stddev=0.1))\n",
    "        }\n",
    "    weights.update({\n",
    "            'wc2': tf.Variable(tf.random_normal([3, 3, 64, 128], stddev=0.1)),\n",
    "            'wc3': tf.Variable(tf.random_normal([3, 3, 128, 128], stddev=0.1)),\n",
    "            'wc4': tf.Variable(tf.random_normal([3, 3, 128, 256], stddev=0.1)),\n",
    "            'wd1': tf.Variable(tf.random_normal(\n",
    "                    [(int)(imgsize[0]/16*imgsize[1]/16)*256, n_output*4], stddev=0.1)),\n",
    "            'wd2': tf.Variable(tf.random_normal([n_output*4, n_output], stddev=0.1))\n",
    "        })\n",
    "    biases   = {\n",
    "        'bc1': tf.Variable(tf.random_normal([64], stddev=0.1)),\n",
    "        'bc2': tf.Variable(tf.random_normal([128], stddev=0.1)),\n",
    "        'bc3': tf.Variable(tf.random_normal([128], stddev=0.1)),\n",
    "        'bc4': tf.Variable(tf.random_normal([256], stddev=0.1)),\n",
    "        'bd1': tf.Variable(tf.random_normal([n_output*4], stddev=0.1)),\n",
    "        'bd2': tf.Variable(tf.random_normal([n_output], stddev=0.1))\n",
    "    }"
   ]
  },
  {
   "cell_type": "code",
   "execution_count": 39,
   "metadata": {
    "collapsed": true
   },
   "outputs": [],
   "source": [
    "def cnn4(_input, _w, _b, _keepratio, _use_gray):\n",
    "    # INPUT\n",
    "    if _use_gray:\n",
    "        _input_r = tf.reshape(_input, shape=[-1, imgsize[0], imgsize[1], 1])\n",
    "    else:\n",
    "        _input_r = tf.reshape(_input, shape=[-1, imgsize[0], imgsize[1], 3])\n",
    "    # CONVOLUTION LAYER 1\n",
    "    _conv1 = tf.nn.relu(tf.nn.bias_add(tf.nn.conv2d(_input_r\n",
    "        , _w['wc1'], strides=[1, 1, 1, 1], padding='SAME'), _b['bc1']))\n",
    "    _pool1 = tf.nn.max_pool(_conv1, ksize=[1, 2, 2, 1]\n",
    "        , strides=[1, 2, 2, 1], padding='SAME')\n",
    "    _pool_dr1 = tf.nn.dropout(_pool1, _keepratio)\n",
    "    # CONVOLUTION LAYER 2\n",
    "    _conv2 = tf.nn.relu(tf.nn.bias_add(tf.nn.conv2d(_pool_dr1\n",
    "        , _w['wc2'], strides=[1, 1, 1, 1], padding='SAME'), _b['bc2']))\n",
    "    _pool2 = tf.nn.max_pool(_conv2, ksize=[1, 2, 2, 1]\n",
    "        , strides=[1, 2, 2, 1], padding='SAME')\n",
    "    _pool_dr2 = tf.nn.dropout(_pool2, _keepratio)\n",
    "    # CONVOLUTION LAYER 3\n",
    "    _conv3 = tf.nn.relu(tf.nn.bias_add(tf.nn.conv2d(_pool_dr2\n",
    "        , _w['wc3'], strides=[1, 1, 1, 1], padding='SAME'), _b['bc3']))\n",
    "    _pool3 = tf.nn.max_pool(_conv3, ksize=[1, 2, 2, 1]\n",
    "        , strides=[1, 2, 2, 1], padding='SAME')\n",
    "    _pool_dr3 = tf.nn.dropout(_pool3, _keepratio)\n",
    "    # CONVOLUTION LAYER 4\n",
    "    _conv4 = tf.nn.relu(tf.nn.bias_add(tf.nn.conv2d(_pool_dr3\n",
    "        , _w['wc4'], strides=[1, 1, 1, 1], padding='SAME'), _b['bc4']))\n",
    "    _pool4 = tf.nn.max_pool(_conv4, ksize=[1, 2, 2, 1]\n",
    "        , strides=[1, 2, 2, 1], padding='SAME')\n",
    "    _pool_dr4 = tf.nn.dropout(_pool4, _keepratio)\n",
    "    # VECTORIZE\n",
    "    _dense1 = tf.reshape(_pool_dr4\n",
    "                         , [-1, _w['wd1'].get_shape().as_list()[0]])\n",
    "    # FULLY CONNECTED LAYER 1\n",
    "    _fc1 = tf.nn.relu(tf.add(tf.matmul(_dense1, _w['wd1']), _b['bd1']))\n",
    "    _fc_dr1 = tf.nn.dropout(_fc1, _keepratio)\n",
    "    # FULLY CONNECTED LAYER 2\n",
    "    _out = tf.add(tf.matmul(_fc_dr1, _w['wd2']), _b['bd2'])\n",
    "    # RETURN\n",
    "    out = {\n",
    "        'input_r': _input_r, \n",
    "        'conv1': _conv1, 'pool1': _pool1, 'pool1_dr1': _pool_dr1, \n",
    "        'conv2': _conv2, 'pool2': _pool2, 'pool1_dr2': _pool_dr2, \n",
    "        'conv3': _conv3, 'pool3': _pool3, 'pool1_dr3': _pool_dr3, \n",
    "        'conv4': _conv4, 'pool4': _pool4, 'pool1_dr4': _pool_dr4, \n",
    "        'dense1': _dense1, 'fc1': _fc1, 'fc_dr1': _fc_dr1, \n",
    "        'out': _out\n",
    "    }\n",
    "    return out"
   ]
  },
  {
   "cell_type": "markdown",
   "metadata": {},
   "source": [
    "### DEFINE NETWORK (VGG16)"
   ]
  },
  {
   "cell_type": "code",
   "execution_count": 40,
   "metadata": {
    "collapsed": true
   },
   "outputs": [],
   "source": [
    "if cnn_switch == 'vgg16':\n",
    "    tf.set_random_seed(0)\n",
    "    n_input  = dim\n",
    "    n_output = nclass\n",
    "    \n",
    "    if use_gray:\n",
    "        weights = {'wc1': tf.Variable(tf.random_normal([3, 3, 1, 64], stddev=0.1))}\n",
    "    else:\n",
    "        weights = {'wc1': tf.Variable(tf.random_normal([3, 3, 3, 64], stddev=0.1))}\n",
    "    \n",
    "    weights.update({\n",
    "        'wc2': tf.Variable(tf.random_normal([3, 3, 64, 64], stddev=0.1)),\n",
    "\n",
    "        'wc3': tf.Variable(tf.random_normal([3, 3, 64, 128], stddev=0.1)),\n",
    "        'wc4': tf.Variable(tf.random_normal([3, 3, 128, 128], stddev=0.1)),\n",
    "\n",
    "        'wc5': tf.Variable(tf.random_normal([3, 3, 128, 256], stddev=0.1)),\n",
    "        'wc6': tf.Variable(tf.random_normal([3, 3, 256, 256], stddev=0.1)),\n",
    "        'wc7': tf.Variable(tf.random_normal([3, 3, 256, 256], stddev=0.1)),\n",
    "\n",
    "        'wc8': tf.Variable(tf.random_normal([3, 3, 256, 512], stddev=0.1)),\n",
    "        'wc9': tf.Variable(tf.random_normal([3, 3, 512, 512], stddev=0.1)),\n",
    "        'wc10': tf.Variable(tf.random_normal([3, 3, 512, 512], stddev=0.1)),\n",
    "\n",
    "        'wc11': tf.Variable(tf.random_normal([3, 3, 512, 512], stddev=0.1)),\n",
    "        'wc12': tf.Variable(tf.random_normal([3, 3, 512, 512], stddev=0.1)),\n",
    "        'wc13': tf.Variable(tf.random_normal([3, 3, 512, 512], stddev=0.1)),\n",
    "\n",
    "        'wd14': tf.Variable(tf.random_normal(\n",
    "                [(int)(imgsize[0]/32*imgsize[1]/32)*512, 32], stddev=0.1)),\n",
    "        'wd15': tf.Variable(tf.random_normal([32, n_output], stddev=0.1)),\n",
    "#         'wd16': tf.Variable(tf.random_normal([32, n_output], stddev=0.1))\n",
    "        })\n",
    "    biases   = {\n",
    "        'bc1': tf.Variable(tf.random_normal([64], stddev=0.1)),\n",
    "        'bc2': tf.Variable(tf.random_normal([64], stddev=0.1)),\n",
    "\n",
    "        'bc3': tf.Variable(tf.random_normal([128], stddev=0.1)),\n",
    "        'bc4': tf.Variable(tf.random_normal([128], stddev=0.1)),\n",
    "\n",
    "        'bc5': tf.Variable(tf.random_normal([256], stddev=0.1)),\n",
    "        'bc6': tf.Variable(tf.random_normal([256], stddev=0.1)),\n",
    "        'bc7': tf.Variable(tf.random_normal([256], stddev=0.1)),\n",
    "\n",
    "        'bc8': tf.Variable(tf.random_normal([512], stddev=0.1)),\n",
    "        'bc9': tf.Variable(tf.random_normal([512], stddev=0.1)),\n",
    "        'bc10': tf.Variable(tf.random_normal([512], stddev=0.1)),\n",
    "\n",
    "        'bc11': tf.Variable(tf.random_normal([512], stddev=0.1)),\n",
    "        'bc12': tf.Variable(tf.random_normal([512], stddev=0.1)),\n",
    "        'bc13': tf.Variable(tf.random_normal([512], stddev=0.1)),\n",
    "\n",
    "        'bd14': tf.Variable(tf.random_normal([32], stddev=0.1)),\n",
    "        'bd15': tf.Variable(tf.random_normal([n_output], stddev=0.1)),\n",
    "#         'bd16': tf.Variable(tf.random_normal([n_output], stddev=0.1))\n",
    "    }"
   ]
  },
  {
   "cell_type": "code",
   "execution_count": 41,
   "metadata": {},
   "outputs": [
    {
     "name": "stdout",
     "output_type": "stream",
     "text": [
      "NETWORK READY\n"
     ]
    }
   ],
   "source": [
    "def vgg16(_input, _w, _b, _keepratio, _use_gray):\n",
    "    # INPUT\n",
    "    if _use_gray:\n",
    "        _input_r = tf.reshape(_input, shape=[-1, imgsize[0], imgsize[1], 1])\n",
    "    else:\n",
    "        _input_r = tf.reshape(_input, shape=[-1, imgsize[0], imgsize[1], 3])\n",
    "    \n",
    "    # Layer 1, 2 + Maxpool 1\n",
    "    _layer1 = tf.nn.relu(tf.nn.bias_add(tf.nn.conv2d(_input_r, _w['wc1'], strides=[1, 1, 1, 1], padding='SAME'), _b['bc1']))\n",
    "    _layer2 = tf.nn.relu(tf.nn.bias_add(tf.nn.conv2d(_layer1, _w['wc2'], strides=[1, 1, 1, 1], padding='SAME'), _b['bc2']))\n",
    "    _pool1 = tf.nn.max_pool(_layer2, ksize=[1, 2, 2, 1], strides=[1, 2, 2, 1], padding='SAME')\n",
    "    #_pool_dr1 = tf.nn.dropout(_pool1, _keepratio)\n",
    "    \n",
    "    # Layer 3, 4 + Maxpool 2\n",
    "    _layer3 = tf.nn.relu(tf.nn.bias_add(tf.nn.conv2d(_pool1, _w['wc3'], strides=[1, 1, 1, 1], padding='SAME'), _b['bc3']))\n",
    "    _layer4 = tf.nn.relu(tf.nn.bias_add(tf.nn.conv2d(_layer3, _w['wc4'], strides=[1, 1, 1, 1], padding='SAME'), _b['bc4']))\n",
    "    _pool2 = tf.nn.max_pool(_layer4, ksize=[1, 2, 2, 1], strides=[1, 2, 2, 1], padding='SAME')\n",
    "    #_pool_dr2 = tf.nn.dropout(_pool2, _keepratio)\n",
    "    \n",
    "    # Layer 5, 6, 7 + Maxpool 3\n",
    "    _layer5 = tf.nn.relu(tf.nn.bias_add(tf.nn.conv2d(_pool2, _w['wc5'], strides=[1, 1, 1, 1], padding='SAME'), _b['bc5']))\n",
    "    _layer6 = tf.nn.relu(tf.nn.bias_add(tf.nn.conv2d(_layer5, _w['wc6'], strides=[1, 1, 1, 1], padding='SAME'), _b['bc6']))\n",
    "    _layer7 = tf.nn.relu(tf.nn.bias_add(tf.nn.conv2d(_layer6, _w['wc7'], strides=[1, 1, 1, 1], padding='SAME'), _b['bc7']))\n",
    "    _pool3 = tf.nn.max_pool(_layer7, ksize=[1, 2, 2, 1], strides=[1, 2, 2, 1], padding='SAME')\n",
    "    #_pool_dr3 = tf.nn.dropout(_pool3, _keepratio)\n",
    "        \n",
    "    # Layer 8, 9, 10 + Maxpool 4\n",
    "    _layer8 = tf.nn.relu(tf.nn.bias_add(tf.nn.conv2d(_pool3, _w['wc8'], strides=[1, 1, 1, 1], padding='SAME'), _b['bc8']))\n",
    "    _layer9 = tf.nn.relu(tf.nn.bias_add(tf.nn.conv2d(_layer8, _w['wc9'], strides=[1, 1, 1, 1], padding='SAME'), _b['bc9']))\n",
    "    _layer10 = tf.nn.relu(tf.nn.bias_add(tf.nn.conv2d(_layer9, _w['wc10'], strides=[1, 1, 1, 1], padding='SAME'), _b['bc10']))\n",
    "    _pool4 = tf.nn.max_pool(_layer10, ksize=[1, 2, 2, 1], strides=[1, 2, 2, 1], padding='SAME')\n",
    "    #_pool_dr4 = tf.nn.dropout(_pool4, _keepratio)\n",
    "        \n",
    "    # Layer 11, 12, 13 + Maxpool 5\n",
    "    _layer11 = tf.nn.relu(tf.nn.bias_add(tf.nn.conv2d(_pool4, _w['wc11'], strides=[1, 1, 1, 1], padding='SAME'), _b['bc11']))\n",
    "    _layer12 = tf.nn.relu(tf.nn.bias_add(tf.nn.conv2d(_layer11, _w['wc12'], strides=[1, 1, 1, 1], padding='SAME'), _b['bc12']))\n",
    "    _layer13 = tf.nn.relu(tf.nn.bias_add(tf.nn.conv2d(_layer12, _w['wc13'], strides=[1, 1, 1, 1], padding='SAME'), _b['bc13']))\n",
    "    _pool5 = tf.nn.max_pool(_layer13, ksize=[1, 2, 2, 1], strides=[1, 2, 2, 1], padding='SAME')\n",
    "    #_pool_dr5 = tf.nn.dropout(_pool5, _keepratio)\n",
    "        \n",
    "    # VECTORIZE\n",
    "    _dense1 = tf.reshape(_pool5, [-1, _w['wd14'].get_shape().as_list()[0]])\n",
    "    \n",
    "    # FULLY CONNECTED LAYER 1\n",
    "    _fc1 = tf.nn.relu(tf.add(tf.matmul(_dense1, _w['wd14']), _b['bd14']))\n",
    "    #_fc_dr1 = tf.nn.dropout(_fc1, _keepratio)\n",
    "    \n",
    "    # FULLY CONNECTED LAYER 2\n",
    "#     _fc2 = tf.add(tf.matmul(_fc1, _w['wd15']), _b['bd15'])\n",
    "    _out = tf.add(tf.matmul(_fc1, _w['wd15']), _b['bd15'])\n",
    "    \n",
    "    # FULLY CONNECTED LAYER 2\n",
    "#     _out = tf.add(tf.matmul(_fc2, _w['wd16']), _b['bd16'])\n",
    "\n",
    "    # RETURN\n",
    "    out = {\n",
    "        'input_r': _input_r, \n",
    "        'layer1': _layer1, 'layer2': _layer2, 'pool1': _pool1,\n",
    "        'layer3': _layer3, 'layer4': _layer4, 'pool2': _pool2,\n",
    "        'layer5': _layer5, 'layer6': _layer6, 'layer7': _layer7, 'pool3': _pool3,\n",
    "        'layer8': _layer8, 'layer9': _layer9, 'layer10': _layer10, 'pool4': _pool4,\n",
    "        'layer11': _layer11, 'layer12': _layer12, 'layer13': _layer13, 'pool5': _pool5,\n",
    "        'dense1': _dense1, 'fc1':_fc1,\n",
    "        'out': _out\n",
    "    }\n",
    "    return out\n",
    "\n",
    "print (\"NETWORK READY\")"
   ]
  },
  {
   "cell_type": "markdown",
   "metadata": {},
   "source": [
    "### DEFINE FUNCTIONS"
   ]
  },
  {
   "cell_type": "code",
   "execution_count": 42,
   "metadata": {
    "scrolled": false
   },
   "outputs": [
    {
     "name": "stdout",
     "output_type": "stream",
     "text": [
      "cnn4 FUNCTIONS READY\n"
     ]
    }
   ],
   "source": [
    "# tf Graph input\n",
    "x = tf.placeholder(tf.float32, [None, n_input])\n",
    "y = tf.placeholder(tf.float32, [None, n_output])\n",
    "keepratio = tf.placeholder(tf.float32)\n",
    "\n",
    "# Functions! \n",
    "if cnn_switch == 'basic':\n",
    "    _pred = conv_basic(x, weights, biases, keepratio, use_gray)['out']\n",
    "elif cnn_switch == 'cnn4':\n",
    "    _pred = cnn4(x, weights, biases, keepratio, use_gray)['out']\n",
    "elif cnn_switch == 'vgg16':\n",
    "    _pred = vgg16(x, weights, biases, keepratio, use_gray)['out']\n",
    "\n",
    "print(cnn_switch, end=' ')\n",
    "cost = tf.reduce_mean(tf.nn.softmax_cross_entropy_with_logits(labels=y, logits=_pred))\n",
    "\n",
    "#WEIGHT_DECAY_FACTOR = 0.0001\n",
    "#l2_loss = tf.add_n([tf.nn.l2_loss(v) for v in tf.trainable_variables()])\n",
    "#cost = cost + WEIGHT_DECAY_FACTOR * l2_loss\n",
    "\n",
    "optm = tf.train.AdamOptimizer(learning_rate=0.001).minimize(cost)\n",
    "corr = tf.equal(tf.argmax(_pred,1), tf.argmax(y,1)) # Count corrects\n",
    "accr = tf.reduce_mean(tf.cast(corr, tf.float32)) # Accuracy\n",
    "init = tf.global_variables_initializer()\n",
    "print (\"FUNCTIONS READY\")"
   ]
  },
  {
   "cell_type": "markdown",
   "metadata": {},
   "source": [
    "### OPTIMIZE"
   ]
  },
  {
   "cell_type": "code",
   "execution_count": 43,
   "metadata": {
    "collapsed": true
   },
   "outputs": [],
   "source": [
    "# Parameters\n",
    "training_epochs = 100\n",
    "batch_size      = 5\n",
    "image_num       = 5\n",
    "test_size       = 30\n",
    "display_step    = 40\n",
    "\n",
    "# Launch the graph\n",
    "sess = tf.Session()\n",
    "sess.run(init)"
   ]
  },
  {
   "cell_type": "code",
   "execution_count": 44,
   "metadata": {
    "scrolled": false
   },
   "outputs": [
    {
     "name": "stdout",
     "output_type": "stream",
     "text": [
      "Epoch: 000/100 cost: 1.780687875\n",
      " Training accuracy: 0.150\n",
      " Test accuracy: 0.267\n",
      "Epoch: 040/100 cost: 1.601455317\n",
      " Training accuracy: 0.250\n",
      " Test accuracy: 0.133\n",
      "Epoch: 080/100 cost: 1.593898184\n",
      " Training accuracy: 0.250\n",
      " Test accuracy: 0.333\n",
      "Epoch: 099/100 cost: 1.599469958\n",
      " Training accuracy: 0.300\n",
      " Test accuracy: 0.233\n",
      "Optimization Finished!\n"
     ]
    }
   ],
   "source": [
    "# Training cycle\n",
    "for epoch in range(training_epochs):\n",
    "    avg_cost = 0.\n",
    "    num_batch = int(ntrain/batch_size)+1\n",
    "    # Loop over all batches\n",
    "    for i in range(num_batch): \n",
    "        randidx = np.random.randint(ntrain, size=batch_size)\n",
    "        batch_xs = trainimg[randidx, :]\n",
    "        batch_ys = trainlabel[randidx, :]\n",
    "        # Fit training using batch data\n",
    "        feeds = {x: batch_xs, y: batch_ys, keepratio:0.7}\n",
    "        sess.run(optm, feed_dict=feeds)\n",
    "        # Compute average loss\n",
    "        feeds = {x: batch_xs, y: batch_ys, keepratio:1.}\n",
    "        avg_cost += sess.run(cost, feed_dict=feeds)/num_batch\n",
    "    # Display logs per epoch step\n",
    "    if epoch % display_step == 0 or epoch == training_epochs-1:\n",
    "        print (\"Epoch: %03d/%03d cost: %.9f\" % \n",
    "               (epoch, training_epochs, avg_cost))\n",
    "        # Train Accuracy\n",
    "        feeds = {x: batch_xs, y: batch_ys, keepratio:1.}\n",
    "        train_acc = sess.run(accr, feed_dict=feeds)\n",
    "        print (\" Training accuracy: %.3f\" % (train_acc))\n",
    "        \n",
    "        # Test Accuracy\n",
    "        randidx = np.random.randint(ntest, size=test_size)\n",
    "        test_batch_xs = testimg[randidx, :]\n",
    "        test_batch_ys = testlabel[randidx, :]\n",
    "        feeds = {x: test_batch_xs, y: test_batch_ys, keepratio:1.}\n",
    "        #feeds = {x: testimg, y: testlabel, keepratio:1.}\n",
    "        test_acc = sess.run(accr, feed_dict=feeds)\n",
    "        print (\" Test accuracy: %.3f\" % (test_acc))\n",
    "print (\"Optimization Finished!\")"
   ]
  },
  {
   "cell_type": "markdown",
   "metadata": {},
   "source": [
    "### CLOSE SESSION"
   ]
  },
  {
   "cell_type": "code",
   "execution_count": 45,
   "metadata": {},
   "outputs": [
    {
     "name": "stdout",
     "output_type": "stream",
     "text": [
      "Session closed.\n"
     ]
    }
   ],
   "source": [
    "sess.close()\n",
    "print (\"Session closed.\")"
   ]
  }
 ],
 "metadata": {
  "kernelspec": {
   "display_name": "Python 3",
   "language": "python",
   "name": "python3"
  },
  "language_info": {
   "codemirror_mode": {
    "name": "ipython",
    "version": 3
   },
   "file_extension": ".py",
   "mimetype": "text/x-python",
   "name": "python",
   "nbconvert_exporter": "python",
   "pygments_lexer": "ipython3",
   "version": "3.6.1"
  }
 },
 "nbformat": 4,
 "nbformat_minor": 2
}
