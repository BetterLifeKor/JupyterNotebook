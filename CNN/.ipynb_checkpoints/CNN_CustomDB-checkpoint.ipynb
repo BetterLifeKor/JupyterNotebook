{
 "cells": [
  {
   "cell_type": "markdown",
   "metadata": {},
   "source": [
    "### CONVOLUTIONAL NEURAL NETWORK WITH CUSTOM DATA"
   ]
  },
  {
   "cell_type": "code",
   "execution_count": 8,
   "metadata": {},
   "outputs": [
    {
     "name": "stdout",
     "output_type": "stream",
     "text": [
      "Packages loaded\n"
     ]
    }
   ],
   "source": [
    "import os\n",
    "import numpy as np\n",
    "import tensorflow as tf\n",
    "import matplotlib.pyplot as plt\n",
    "%matplotlib inline  \n",
    "print (\"Packages loaded\")"
   ]
  },
  {
   "cell_type": "markdown",
   "metadata": {},
   "source": [
    "### LOAD DATA"
   ]
  },
  {
   "cell_type": "code",
   "execution_count": 9,
   "metadata": {},
   "outputs": [
    {
     "name": "stdout",
     "output_type": "stream",
     "text": [
      "['trainimg', 'trainlabel', 'testimg', 'testlabel', 'imgsize', 'use_gray', 'categories']\n",
      "trainimg \t:  (2936, 65536)\n",
      "trainlabel \t:  (2936, 5)\n",
      "testimg \t:  (734, 65536)\n",
      "testlabel \t:  (734, 5)\n",
      "imgsize \t:  (2,)\n",
      "use_gray \t:  ()\n",
      "categories \t:  (5,)\n",
      "TRAIN IMAGES : 2936\n",
      "TEST IMAGES  : 734\n",
      "IMAGE Channel: 1\n",
      "INPUT Dim.   : 65536\n",
      "Image Size   : [256 256]\n",
      "CLASSES      : 5\n",
      "Categories   : ['daisy' 'dandelion' 'roses' 'sunflowers' 'tulips']\n"
     ]
    }
   ],
   "source": [
    "# Load them!\n",
    "# cwd = os.getcwd()\n",
    "# loadpath = \"../data/custom_data_flowers_64_64_rgb.npz\"\n",
    "# loadpath = \"../data/data4vgg.npz\"\n",
    "# loadpath = \"../data/custom_data_flowers_224_224_gray.npz\"\n",
    "loadpath = \"../../DB/data/custom_data_flowers_256_256_gray.npz\"\n",
    "\n",
    "l = np.load(loadpath)\n",
    "\n",
    "cnn_switch = 'basic'\n",
    "# cnn_switch = 'vgg16'\n",
    "\n",
    "# See what's in here\n",
    "print (l.files)\n",
    "for i in l.files:\n",
    "    print(i + \" \\t: \", l[i].shape)\n",
    "\n",
    "\n",
    "# Parse data\n",
    "trainimg = l['trainimg']\n",
    "trainlabel = l['trainlabel']\n",
    "testimg = l['testimg']\n",
    "testlabel = l['testlabel']\n",
    "imgsize = l['imgsize']\n",
    "use_gray = l['use_gray']\n",
    "categories = l['categories']\n",
    "ntrain = trainimg.shape[0]\n",
    "nclass = trainlabel.shape[1]\n",
    "dim    = trainimg.shape[1]\n",
    "ntest  = testimg.shape[0]\n",
    "\n",
    "\n",
    "if use_gray: \n",
    "    nimgch = 1\n",
    "else:\n",
    "    nimgch = 3\n",
    "\n",
    "print (\"TRAIN IMAGES : %d\" % (ntrain))\n",
    "print (\"TEST IMAGES  : %d\" % (ntest))\n",
    "print (\"IMAGE Channel: %d\" % (nimgch))\n",
    "print (\"INPUT Dim.   : %d\" % (dim))\n",
    "print (\"Image Size   :\", imgsize)\n",
    "print (\"CLASSES      : %d\" % (nclass))\n",
    "print (\"Categories   :\", categories)"
   ]
  },
  {
   "cell_type": "markdown",
   "metadata": {},
   "source": [
    "### DEFINE NETWORK"
   ]
  },
  {
   "cell_type": "code",
   "execution_count": 10,
   "metadata": {
    "collapsed": true
   },
   "outputs": [],
   "source": [
    "tf.set_random_seed(0)\n",
    "n_input  = dim\n",
    "n_output = nclass\n",
    "if use_gray:\n",
    "    weights = {'wc1': tf.Variable(tf.random_normal([5, 5, 1, 128], stddev=0.1))}\n",
    "else:\n",
    "    weights = {'wc1': tf.Varaible(tf.random_normal([5, 5, 3, 128], stddev=0.1))}\n",
    "\n",
    "weights.update(\n",
    "    {'wc2': tf.Variable(tf.random_normal([5, 5, 128, 128], stddev=0.1)),\n",
    "     'wd1': tf.Variable(tf.random_normal([(int)(imgsize[0]/4*imgsize[1]/4)*128, 128], stddev=0.1)),\n",
    "     'wd2': tf.Variable(tf.random_normal([128, n_output], stddev=0.1))\n",
    "    }\n",
    ")\n",
    "\n",
    "biases   = {\n",
    "    'bc1': tf.Variable(tf.random_normal([128], stddev=0.1)),\n",
    "    'bc2': tf.Variable(tf.random_normal([128], stddev=0.1)),\n",
    "    'bd1': tf.Variable(tf.random_normal([128], stddev=0.1)),\n",
    "    'bd2': tf.Variable(tf.random_normal([n_output], stddev=0.1))\n",
    "}"
   ]
  },
  {
   "cell_type": "code",
   "execution_count": 11,
   "metadata": {},
   "outputs": [
    {
     "name": "stdout",
     "output_type": "stream",
     "text": [
      "NETWORK READY\n"
     ]
    }
   ],
   "source": [
    "def conv_basic(_input, _w, _b, _keepratio, _use_gray):\n",
    "    # INPUT\n",
    "    if _use_gray:\n",
    "        _input_r = tf.reshape(_input, shape=[-1, imgsize[0], imgsize[1], 1])\n",
    "    else:\n",
    "        _input_r = tf.reshape(_input, shape=[-1, imgsize[0], imgsize[1], 3])\n",
    "    # CONVOLUTION LAYER 1\n",
    "    _conv1 = tf.nn.relu(tf.nn.bias_add(tf.nn.conv2d(_input_r\n",
    "        , _w['wc1'], strides=[1, 1, 1, 1], padding='SAME'), _b['bc1']))\n",
    "    _pool1 = tf.nn.max_pool(_conv1, ksize=[1, 2, 2, 1]\n",
    "        , strides=[1, 2, 2, 1], padding='SAME')\n",
    "    _pool_dr1 = tf.nn.dropout(_pool1, _keepratio)\n",
    "    # CONVOLUTION LAYER 2\n",
    "    _conv2 = tf.nn.relu(tf.nn.bias_add(tf.nn.conv2d(_pool_dr1\n",
    "        , _w['wc2'], strides=[1, 1, 1, 1], padding='SAME'), _b['bc2']))\n",
    "    _pool2 = tf.nn.max_pool(_conv2, ksize=[1, 2, 2, 1]\n",
    "        , strides=[1, 2, 2, 1], padding='SAME')\n",
    "    _pool_dr2 = tf.nn.dropout(_pool2, _keepratio)\n",
    "    # VECTORIZE\n",
    "    _dense1 = tf.reshape(_pool_dr2\n",
    "                         , [-1, _w['wd1'].get_shape().as_list()[0]])\n",
    "    # FULLY CONNECTED LAYER 1\n",
    "    _fc1 = tf.nn.relu(tf.add(tf.matmul(_dense1, _w['wd1']), _b['bd1']))\n",
    "    _fc_dr1 = tf.nn.dropout(_fc1, _keepratio)\n",
    "    # FULLY CONNECTED LAYER 2\n",
    "    _out = tf.add(tf.matmul(_fc_dr1, _w['wd2']), _b['bd2'])\n",
    "    # RETURN\n",
    "    out = {\n",
    "        'input_r': _input_r, 'conv1': _conv1, 'pool1': _pool1\n",
    "        , 'pool1_dr1': _pool_dr1, 'conv2': _conv2, 'pool2': _pool2\n",
    "        , 'pool_dr2': _pool_dr2, 'dense1': _dense1, 'fc1': _fc1\n",
    "        , 'fc_dr1': _fc_dr1, 'out': _out\n",
    "    }\n",
    "    return out\n",
    "print (\"NETWORK READY\")"
   ]
  },
  {
   "cell_type": "markdown",
   "metadata": {},
   "source": [
    "### DEFINE FUNCTIONS"
   ]
  },
  {
   "cell_type": "code",
   "execution_count": 12,
   "metadata": {},
   "outputs": [
    {
     "name": "stdout",
     "output_type": "stream",
     "text": [
      "FUNCTIONS READY\n"
     ]
    }
   ],
   "source": [
    "# tf Graph input\n",
    "x = tf.placeholder(tf.float32, [None, n_input])\n",
    "y = tf.placeholder(tf.float32, [None, n_output])\n",
    "keepratio = tf.placeholder(tf.float32)\n",
    "\n",
    "# Functions! \n",
    "_pred = conv_basic(x, weights, biases, keepratio, use_gray)['out']\n",
    "cost = tf.reduce_mean(tf.nn.softmax_cross_entropy_with_logits(labels=y, logits=_pred))\n",
    "#WEIGHT_DECAY_FACTOR = 0.0001\n",
    "#l2_loss = tf.add_n([tf.nn.l2_loss(v) for v in tf.trainable_variables()])\n",
    "#cost = cost + WEIGHT_DECAY_FACTOR * l2_loss\n",
    "\n",
    "optm = tf.train.AdamOptimizer(learning_rate=0.001).minimize(cost)\n",
    "_corr = tf.equal(tf.argmax(_pred,1), tf.argmax(y,1)) # Count corrects\n",
    "accr = tf.reduce_mean(tf.cast(_corr, tf.float32)) # Accuracy\n",
    "print (\"FUNCTIONS READY\")"
   ]
  },
  {
   "cell_type": "markdown",
   "metadata": {},
   "source": [
    "### OPTIMIZE"
   ]
  },
  {
   "cell_type": "code",
   "execution_count": null,
   "metadata": {
    "collapsed": true
   },
   "outputs": [],
   "source": [
    "# Parameters\n",
    "training_epochs = 400\n",
    "batch_size      = 10\n",
    "test_size       = 30\n",
    "display_step    = 40\n",
    "\n",
    "# Launch the graph\n",
    "sess = tf.Session()\n",
    "init = tf.global_variables_initializer()\n",
    "sess.run(init)"
   ]
  },
  {
   "cell_type": "code",
   "execution_count": null,
   "metadata": {
    "scrolled": false
   },
   "outputs": [],
   "source": [
    "# Training cycle\n",
    "for epoch in range(training_epochs):\n",
    "    avg_cost = 0.\n",
    "    num_batch = int(ntrain / batch_size)+1\n",
    "    # Loop over all batches\n",
    "    for i in range(num_batch): \n",
    "        randidx = np.random.randint(ntrain, size=batch_size)\n",
    "        batch_xs = trainimg[randidx, :]\n",
    "        batch_ys = trainlabel[randidx, :]                \n",
    "        # Fit training using batch data\n",
    "        feeds = {x: batch_xs, y: batch_ys, keepratio:0.7}\n",
    "        sess.run(optm, feed_dict=feeds)\n",
    "        # Compute average loss\n",
    "        feeds = {x: batch_xs, y: batch_ys, keepratio:1.}\n",
    "        avg_cost += sess.run(cost, feed_dict=feeds)/num_batch\n",
    "\n",
    "    # Display logs per epoch step\n",
    "    if epoch % display_step == 0 or epoch == training_epochs-1:\n",
    "        print (\"Epoch: %03d/%03d cost: %.9f\" % \n",
    "               (epoch, training_epochs, avg_cost))\n",
    "        feeds = {x: batch_xs, y: batch_ys, keepratio:1.}\n",
    "        train_acc = sess.run(accr, feed_dict=feeds)\n",
    "        print (\" Training accuracy: %.3f\" % (train_acc))\n",
    "        \n",
    "        randidx = np.random.randint(ntest, size=test_size)\n",
    "        test_batch_xs = testimg[randidx, :]\n",
    "        test_batch_ys = testlabel[randidx, :]\n",
    "        feeds = {x: test_batch_xs, y: test_batch_ys, keepratio:1.}\n",
    "        #feeds = {x: testimg, y: testlabel, keepratio:1.}\n",
    "        test_acc = sess.run(accr, feed_dict=feeds)\n",
    "        print (\" Test accuracy: %.3f\" % (test_acc))\n",
    "        \n",
    "print (\"Optimization Finished!\")"
   ]
  },
  {
   "cell_type": "markdown",
   "metadata": {},
   "source": [
    "### CLOSE SESSION"
   ]
  },
  {
   "cell_type": "code",
   "execution_count": 11,
   "metadata": {},
   "outputs": [
    {
     "name": "stdout",
     "output_type": "stream",
     "text": [
      "Session closed.\n"
     ]
    }
   ],
   "source": [
    "sess.close()\n",
    "print (\"Session closed.\")"
   ]
  },
  {
   "cell_type": "code",
   "execution_count": null,
   "metadata": {
    "collapsed": true
   },
   "outputs": [],
   "source": []
  }
 ],
 "metadata": {
  "kernelspec": {
   "display_name": "Python 3",
   "language": "python",
   "name": "python3"
  },
  "language_info": {
   "codemirror_mode": {
    "name": "ipython",
    "version": 3
   },
   "file_extension": ".py",
   "mimetype": "text/x-python",
   "name": "python",
   "nbconvert_exporter": "python",
   "pygments_lexer": "ipython3",
   "version": "3.6.1"
  }
 },
 "nbformat": 4,
 "nbformat_minor": 2
}
